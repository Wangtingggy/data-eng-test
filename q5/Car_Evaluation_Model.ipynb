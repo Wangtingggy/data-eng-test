{
 "cells": [
  {
   "cell_type": "code",
   "execution_count": 1,
   "metadata": {},
   "outputs": [],
   "source": [
    "import pandas as pd\n",
    "import matplotlib.pyplot as plt\n",
    "import seaborn as sns"
   ]
  },
  {
   "cell_type": "markdown",
   "metadata": {},
   "source": [
    "## Read Data"
   ]
  },
  {
   "cell_type": "code",
   "execution_count": 2,
   "metadata": {},
   "outputs": [],
   "source": [
    "df = pd.read_csv('car.data', \n",
    "                 names=['buying', 'maint', 'doors', 'persons', 'lug_boot', 'safety', 'class'], \n",
    "                 header=None, index_col=False)"
   ]
  },
  {
   "cell_type": "code",
   "execution_count": 3,
   "metadata": {},
   "outputs": [
    {
     "data": {
      "text/html": [
       "<div>\n",
       "<style scoped>\n",
       "    .dataframe tbody tr th:only-of-type {\n",
       "        vertical-align: middle;\n",
       "    }\n",
       "\n",
       "    .dataframe tbody tr th {\n",
       "        vertical-align: top;\n",
       "    }\n",
       "\n",
       "    .dataframe thead th {\n",
       "        text-align: right;\n",
       "    }\n",
       "</style>\n",
       "<table border=\"1\" class=\"dataframe\">\n",
       "  <thead>\n",
       "    <tr style=\"text-align: right;\">\n",
       "      <th></th>\n",
       "      <th>buying</th>\n",
       "      <th>maint</th>\n",
       "      <th>doors</th>\n",
       "      <th>persons</th>\n",
       "      <th>lug_boot</th>\n",
       "      <th>safety</th>\n",
       "      <th>class</th>\n",
       "    </tr>\n",
       "  </thead>\n",
       "  <tbody>\n",
       "    <tr>\n",
       "      <th>0</th>\n",
       "      <td>vhigh</td>\n",
       "      <td>vhigh</td>\n",
       "      <td>2</td>\n",
       "      <td>2</td>\n",
       "      <td>small</td>\n",
       "      <td>low</td>\n",
       "      <td>unacc</td>\n",
       "    </tr>\n",
       "    <tr>\n",
       "      <th>1</th>\n",
       "      <td>vhigh</td>\n",
       "      <td>vhigh</td>\n",
       "      <td>2</td>\n",
       "      <td>2</td>\n",
       "      <td>small</td>\n",
       "      <td>med</td>\n",
       "      <td>unacc</td>\n",
       "    </tr>\n",
       "    <tr>\n",
       "      <th>2</th>\n",
       "      <td>vhigh</td>\n",
       "      <td>vhigh</td>\n",
       "      <td>2</td>\n",
       "      <td>2</td>\n",
       "      <td>small</td>\n",
       "      <td>high</td>\n",
       "      <td>unacc</td>\n",
       "    </tr>\n",
       "    <tr>\n",
       "      <th>3</th>\n",
       "      <td>vhigh</td>\n",
       "      <td>vhigh</td>\n",
       "      <td>2</td>\n",
       "      <td>2</td>\n",
       "      <td>med</td>\n",
       "      <td>low</td>\n",
       "      <td>unacc</td>\n",
       "    </tr>\n",
       "    <tr>\n",
       "      <th>4</th>\n",
       "      <td>vhigh</td>\n",
       "      <td>vhigh</td>\n",
       "      <td>2</td>\n",
       "      <td>2</td>\n",
       "      <td>med</td>\n",
       "      <td>med</td>\n",
       "      <td>unacc</td>\n",
       "    </tr>\n",
       "    <tr>\n",
       "      <th>...</th>\n",
       "      <td>...</td>\n",
       "      <td>...</td>\n",
       "      <td>...</td>\n",
       "      <td>...</td>\n",
       "      <td>...</td>\n",
       "      <td>...</td>\n",
       "      <td>...</td>\n",
       "    </tr>\n",
       "    <tr>\n",
       "      <th>1723</th>\n",
       "      <td>low</td>\n",
       "      <td>low</td>\n",
       "      <td>5more</td>\n",
       "      <td>more</td>\n",
       "      <td>med</td>\n",
       "      <td>med</td>\n",
       "      <td>good</td>\n",
       "    </tr>\n",
       "    <tr>\n",
       "      <th>1724</th>\n",
       "      <td>low</td>\n",
       "      <td>low</td>\n",
       "      <td>5more</td>\n",
       "      <td>more</td>\n",
       "      <td>med</td>\n",
       "      <td>high</td>\n",
       "      <td>vgood</td>\n",
       "    </tr>\n",
       "    <tr>\n",
       "      <th>1725</th>\n",
       "      <td>low</td>\n",
       "      <td>low</td>\n",
       "      <td>5more</td>\n",
       "      <td>more</td>\n",
       "      <td>big</td>\n",
       "      <td>low</td>\n",
       "      <td>unacc</td>\n",
       "    </tr>\n",
       "    <tr>\n",
       "      <th>1726</th>\n",
       "      <td>low</td>\n",
       "      <td>low</td>\n",
       "      <td>5more</td>\n",
       "      <td>more</td>\n",
       "      <td>big</td>\n",
       "      <td>med</td>\n",
       "      <td>good</td>\n",
       "    </tr>\n",
       "    <tr>\n",
       "      <th>1727</th>\n",
       "      <td>low</td>\n",
       "      <td>low</td>\n",
       "      <td>5more</td>\n",
       "      <td>more</td>\n",
       "      <td>big</td>\n",
       "      <td>high</td>\n",
       "      <td>vgood</td>\n",
       "    </tr>\n",
       "  </tbody>\n",
       "</table>\n",
       "<p>1728 rows × 7 columns</p>\n",
       "</div>"
      ],
      "text/plain": [
       "     buying  maint  doors persons lug_boot safety  class\n",
       "0     vhigh  vhigh      2       2    small    low  unacc\n",
       "1     vhigh  vhigh      2       2    small    med  unacc\n",
       "2     vhigh  vhigh      2       2    small   high  unacc\n",
       "3     vhigh  vhigh      2       2      med    low  unacc\n",
       "4     vhigh  vhigh      2       2      med    med  unacc\n",
       "...     ...    ...    ...     ...      ...    ...    ...\n",
       "1723    low    low  5more    more      med    med   good\n",
       "1724    low    low  5more    more      med   high  vgood\n",
       "1725    low    low  5more    more      big    low  unacc\n",
       "1726    low    low  5more    more      big    med   good\n",
       "1727    low    low  5more    more      big   high  vgood\n",
       "\n",
       "[1728 rows x 7 columns]"
      ]
     },
     "execution_count": 3,
     "metadata": {},
     "output_type": "execute_result"
    }
   ],
   "source": [
    "df"
   ]
  },
  {
   "cell_type": "code",
   "execution_count": 342,
   "metadata": {},
   "outputs": [
    {
     "data": {
      "text/plain": [
       "(1728, 7)"
      ]
     },
     "execution_count": 342,
     "metadata": {},
     "output_type": "execute_result"
    }
   ],
   "source": [
    "df.shape\n",
    "# 1728 rows of data"
   ]
  },
  {
   "cell_type": "code",
   "execution_count": 343,
   "metadata": {},
   "outputs": [
    {
     "name": "stdout",
     "output_type": "stream",
     "text": [
      "<class 'pandas.core.frame.DataFrame'>\n",
      "RangeIndex: 1728 entries, 0 to 1727\n",
      "Data columns (total 7 columns):\n",
      " #   Column    Non-Null Count  Dtype \n",
      "---  ------    --------------  ----- \n",
      " 0   buying    1728 non-null   object\n",
      " 1   maint     1728 non-null   object\n",
      " 2   doors     1728 non-null   object\n",
      " 3   persons   1728 non-null   object\n",
      " 4   lug_boot  1728 non-null   object\n",
      " 5   safety    1728 non-null   object\n",
      " 6   class     1728 non-null   object\n",
      "dtypes: object(7)\n",
      "memory usage: 94.6+ KB\n"
     ]
    }
   ],
   "source": [
    "df.info()"
   ]
  },
  {
   "cell_type": "code",
   "execution_count": 309,
   "metadata": {},
   "outputs": [
    {
     "data": {
      "text/plain": [
       "med      432\n",
       "low      432\n",
       "vhigh    432\n",
       "high     432\n",
       "Name: buying, dtype: int64"
      ]
     },
     "execution_count": 309,
     "metadata": {},
     "output_type": "execute_result"
    }
   ],
   "source": [
    "# check distribution of buying price\n",
    "df['buying'].value_counts()"
   ]
  },
  {
   "cell_type": "markdown",
   "metadata": {},
   "source": [
    "## EDA"
   ]
  },
  {
   "cell_type": "code",
   "execution_count": 7,
   "metadata": {},
   "outputs": [
    {
     "data": {
      "image/png": "[encoded data removed]",
      "text/plain": [
       "<Figure size 360x360 with 1 Axes>"
      ]
     },
     "metadata": {
      "needs_background": "light"
     },
     "output_type": "display_data"
    },
    {
     "data": {
      "image/png": "[encoded data removed]",
      "text/plain": [
       "<Figure size 360x360 with 1 Axes>"
      ]
     },
     "metadata": {
      "needs_background": "light"
     },
     "output_type": "display_data"
    },
    {
     "data": {
      "image/png": "[encoded data removed]",
      "text/plain": [
       "<Figure size 360x360 with 1 Axes>"
      ]
     },
     "metadata": {
      "needs_background": "light"
     },
     "output_type": "display_data"
    },
    {
     "data": {
      "image/png": "[encoded data removed]",
      "text/plain": [
       "<Figure size 360x360 with 1 Axes>"
      ]
     },
     "metadata": {
      "needs_background": "light"
     },
     "output_type": "display_data"
    },
    {
     "data": {
      "image/png": "[encoded data removed]",
      "text/plain": [
       "<Figure size 360x360 with 1 Axes>"
      ]
     },
     "metadata": {
      "needs_background": "light"
     },
     "output_type": "display_data"
    },
    {
     "data": {
      "image/png": "[encoded data removed]",
      "text/plain": [
       "<Figure size 360x360 with 1 Axes>"
      ]
     },
     "metadata": {
      "needs_background": "light"
     },
     "output_type": "display_data"
    },
    {
     "data": {
      "image/png": "[encoded data removed]",
      "text/plain": [
       "<Figure size 360x360 with 1 Axes>"
      ]
     },
     "metadata": {
      "needs_background": "light"
     },
     "output_type": "display_data"
    }
   ],
   "source": [
    "for col in df.columns:\n",
    "    sns.catplot(x=col, kind=\"count\", palette=\"ch:.25\", data=df)"
   ]
  },
  {
   "cell_type": "markdown",
   "metadata": {},
   "source": [
    "## Encode Label"
   ]
  },
  {
   "cell_type": "code",
   "execution_count": 311,
   "metadata": {},
   "outputs": [],
   "source": [
    "encode = {\n",
    "    \"buying\": {\"low\": 1, \"med\": 2, \"high\": 3, \"vhigh\": 4},\n",
    "    \"maint\": {\"low\": 1, \"med\": 2, \"high\": 3, \"vhigh\": 4},\n",
    "    \"doors\": {\"2\": 1, \"3\": 2, \"4\": 3, \"5more\": 4},\n",
    "    \"persons\": {\"2\": 1, \"4\": 2, \"more\": 3},\n",
    "    \"lug_boot\": {'small': 1, 'med': 2, 'big': 3},\n",
    "    \"safety\": {'low': 1, 'med': 2, 'high': 3},\n",
    "    \"class\": {'unacc': 1, 'acc': 2, 'good': 3, 'vgood': 4}\n",
    "}"
   ]
  },
  {
   "cell_type": "code",
   "execution_count": 312,
   "metadata": {},
   "outputs": [],
   "source": [
    "cleaned_df = df.replace(encode)"
   ]
  },
  {
   "cell_type": "code",
   "execution_count": 313,
   "metadata": {},
   "outputs": [
    {
     "data": {
      "text/html": [
       "<div>\n",
       "<style scoped>\n",
       "    .dataframe tbody tr th:only-of-type {\n",
       "        vertical-align: middle;\n",
       "    }\n",
       "\n",
       "    .dataframe tbody tr th {\n",
       "        vertical-align: top;\n",
       "    }\n",
       "\n",
       "    .dataframe thead th {\n",
       "        text-align: right;\n",
       "    }\n",
       "</style>\n",
       "<table border=\"1\" class=\"dataframe\">\n",
       "  <thead>\n",
       "    <tr style=\"text-align: right;\">\n",
       "      <th></th>\n",
       "      <th>buying</th>\n",
       "      <th>maint</th>\n",
       "      <th>doors</th>\n",
       "      <th>persons</th>\n",
       "      <th>lug_boot</th>\n",
       "      <th>safety</th>\n",
       "      <th>class</th>\n",
       "    </tr>\n",
       "  </thead>\n",
       "  <tbody>\n",
       "    <tr>\n",
       "      <th>0</th>\n",
       "      <td>4</td>\n",
       "      <td>4</td>\n",
       "      <td>1</td>\n",
       "      <td>1</td>\n",
       "      <td>1</td>\n",
       "      <td>1</td>\n",
       "      <td>1</td>\n",
       "    </tr>\n",
       "    <tr>\n",
       "      <th>1</th>\n",
       "      <td>4</td>\n",
       "      <td>4</td>\n",
       "      <td>1</td>\n",
       "      <td>1</td>\n",
       "      <td>1</td>\n",
       "      <td>2</td>\n",
       "      <td>1</td>\n",
       "    </tr>\n",
       "    <tr>\n",
       "      <th>2</th>\n",
       "      <td>4</td>\n",
       "      <td>4</td>\n",
       "      <td>1</td>\n",
       "      <td>1</td>\n",
       "      <td>1</td>\n",
       "      <td>3</td>\n",
       "      <td>1</td>\n",
       "    </tr>\n",
       "    <tr>\n",
       "      <th>3</th>\n",
       "      <td>4</td>\n",
       "      <td>4</td>\n",
       "      <td>1</td>\n",
       "      <td>1</td>\n",
       "      <td>2</td>\n",
       "      <td>1</td>\n",
       "      <td>1</td>\n",
       "    </tr>\n",
       "    <tr>\n",
       "      <th>4</th>\n",
       "      <td>4</td>\n",
       "      <td>4</td>\n",
       "      <td>1</td>\n",
       "      <td>1</td>\n",
       "      <td>2</td>\n",
       "      <td>2</td>\n",
       "      <td>1</td>\n",
       "    </tr>\n",
       "  </tbody>\n",
       "</table>\n",
       "</div>"
      ],
      "text/plain": [
       "   buying  maint  doors  persons  lug_boot  safety  class\n",
       "0       4      4      1        1         1       1      1\n",
       "1       4      4      1        1         1       2      1\n",
       "2       4      4      1        1         1       3      1\n",
       "3       4      4      1        1         2       1      1\n",
       "4       4      4      1        1         2       2      1"
      ]
     },
     "execution_count": 313,
     "metadata": {},
     "output_type": "execute_result"
    }
   ],
   "source": [
    "cleaned_df.head()"
   ]
  },
  {
   "cell_type": "markdown",
   "metadata": {},
   "source": [
    "## Correlation\n",
    "\n",
    "- Based on the heatmap below, there are no highly correlated variables."
   ]
  },
  {
   "cell_type": "code",
   "execution_count": 331,
   "metadata": {},
   "outputs": [
    {
     "data": {
      "text/plain": [
       "<matplotlib.axes._subplots.AxesSubplot at 0x266a25f45b0>"
      ]
     },
     "execution_count": 331,
     "metadata": {},
     "output_type": "execute_result"
    },
    {
     "data": {
      "image/png": "[encoded data removed]",
      "text/plain": [
       "<Figure size 432x288 with 2 Axes>"
      ]
     },
     "metadata": {},
     "output_type": "display_data"
    }
   ],
   "source": [
    "sns.heatmap(cleaned_df.corr())"
   ]
  },
  {
   "cell_type": "markdown",
   "metadata": {},
   "source": [
    "## Split Data"
   ]
  },
  {
   "cell_type": "code",
   "execution_count": 314,
   "metadata": {},
   "outputs": [],
   "source": [
    "from sklearn.model_selection import train_test_split"
   ]
  },
  {
   "cell_type": "code",
   "execution_count": 315,
   "metadata": {},
   "outputs": [],
   "source": [
    "X = cleaned_df[['class', \"maint\", \"doors\", \"persons\", \"lug_boot\", \"safety\"]]\n",
    "y = cleaned_df['buying']"
   ]
  },
  {
   "cell_type": "code",
   "execution_count": 316,
   "metadata": {},
   "outputs": [],
   "source": [
    "X_train, X_test, y_train, y_test = train_test_split(X, y, test_size=0.3, random_state=42)"
   ]
  },
  {
   "cell_type": "code",
   "execution_count": 319,
   "metadata": {},
   "outputs": [
    {
     "data": {
      "text/plain": [
       "((1209, 6), (1209,))"
      ]
     },
     "execution_count": 319,
     "metadata": {},
     "output_type": "execute_result"
    }
   ],
   "source": [
    "X_train.shape, y_train.shape"
   ]
  },
  {
   "cell_type": "code",
   "execution_count": 320,
   "metadata": {},
   "outputs": [
    {
     "data": {
      "text/plain": [
       "((519, 6), (519,))"
      ]
     },
     "execution_count": 320,
     "metadata": {},
     "output_type": "execute_result"
    }
   ],
   "source": [
    "X_test.shape, y_test.shape"
   ]
  },
  {
   "cell_type": "code",
   "execution_count": null,
   "metadata": {},
   "outputs": [],
   "source": []
  },
  {
   "cell_type": "markdown",
   "metadata": {},
   "source": [
    "## Experiment Multiple Models"
   ]
  },
  {
   "cell_type": "code",
   "execution_count": 322,
   "metadata": {},
   "outputs": [],
   "source": [
    "from sklearn.tree import DecisionTreeClassifier\n",
    "from sklearn.linear_model import LogisticRegression\n",
    "from sklearn.neighbors import KNeighborsClassifier\n",
    "from sklearn.svm import SVC\n",
    "from sklearn.ensemble import RandomForestClassifier\n",
    "from sklearn.naive_bayes import GaussianNB\n",
    "from xgboost import XGBClassifier\n",
    "from sklearn import model_selection\n",
    "from sklearn.utils import class_weight\n",
    "from sklearn.metrics import classification_report\n",
    "from sklearn.metrics import accuracy_score\n",
    "from sklearn.metrics import confusion_matrix\n",
    "import numpy as np\n",
    "import pandas as pd\n",
    "\n",
    "def run_exps(X_train: pd.DataFrame , y_train: pd.DataFrame, X_test: pd.DataFrame, y_test: pd.DataFrame) -> pd.DataFrame:\n",
    "    '''\n",
    "    Lightweight script to test many models and find winners\n",
    "    :param X_train: training split\n",
    "    :param y_train: training target vector\n",
    "    :param X_test: test split\n",
    "    :param y_test: test target vector\n",
    "    :return: DataFrame of predictions\n",
    "    '''\n",
    "    dfs = []\n",
    "    models = [\n",
    "        ('LogReg', LogisticRegression()), \n",
    "        ('RF', RandomForestClassifier()),\n",
    "        ('KNN', KNeighborsClassifier()),\n",
    "        ('CLF', DecisionTreeClassifier()),\n",
    "        ('SVM', SVC()), \n",
    "        ('GNB', GaussianNB()),\n",
    "        ('XGB', XGBClassifier())\n",
    "    ]\n",
    "    results = []\n",
    "    names = []\n",
    "    scoring = ['accuracy', 'precision_weighted', 'recall_weighted', 'f1_weighted']\n",
    "        \n",
    "    for name, model in models:\n",
    "        kfold = model_selection.KFold(n_splits=5, shuffle=True, random_state=90210)\n",
    "        cv_results = model_selection.cross_validate(model, X_train, y_train, cv=kfold, scoring=scoring)\n",
    "        clf = model.fit(X_train, y_train)\n",
    "        y_pred = clf.predict(X_test)\n",
    "        print(name)\n",
    "        print(classification_report(y_test, y_pred))\n",
    "    \n",
    "        results.append(cv_results)\n",
    "        names.append(name)\n",
    "        this_df = pd.DataFrame(cv_results)\n",
    "        this_df['model'] = name\n",
    "        dfs.append(this_df)\n",
    "    final = pd.concat(dfs, ignore_index=True)\n",
    "    \n",
    "    return final"
   ]
  },
  {
   "cell_type": "code",
   "execution_count": 323,
   "metadata": {},
   "outputs": [
    {
     "name": "stdout",
     "output_type": "stream",
     "text": [
      "LogReg\n",
      "              precision    recall  f1-score   support\n",
      "\n",
      "           1       0.37      0.36      0.37       135\n",
      "           2       0.25      0.25      0.25       124\n",
      "           3       0.35      0.18      0.24       133\n",
      "           4       0.31      0.47      0.37       127\n",
      "\n",
      "    accuracy                           0.32       519\n",
      "   macro avg       0.32      0.32      0.31       519\n",
      "weighted avg       0.32      0.32      0.31       519\n",
      "\n",
      "RF\n",
      "              precision    recall  f1-score   support\n",
      "\n",
      "           1       0.15      0.16      0.15       135\n",
      "           2       0.04      0.05      0.04       124\n",
      "           3       0.02      0.02      0.02       133\n",
      "           4       0.09      0.08      0.08       127\n",
      "\n",
      "    accuracy                           0.08       519\n",
      "   macro avg       0.08      0.08      0.08       519\n",
      "weighted avg       0.08      0.08      0.08       519\n",
      "\n",
      "KNN\n",
      "              precision    recall  f1-score   support\n",
      "\n",
      "           1       0.21      0.24      0.22       135\n",
      "           2       0.11      0.14      0.12       124\n",
      "           3       0.14      0.13      0.13       133\n",
      "           4       0.24      0.16      0.19       127\n",
      "\n",
      "    accuracy                           0.17       519\n",
      "   macro avg       0.17      0.16      0.17       519\n",
      "weighted avg       0.17      0.17      0.17       519\n",
      "\n",
      "CLF\n",
      "              precision    recall  f1-score   support\n",
      "\n",
      "           1       0.09      0.15      0.11       135\n",
      "           2       0.04      0.06      0.05       124\n",
      "           3       0.04      0.03      0.04       133\n",
      "           4       0.21      0.06      0.09       127\n",
      "\n",
      "    accuracy                           0.07       519\n",
      "   macro avg       0.10      0.07      0.07       519\n",
      "weighted avg       0.10      0.07      0.07       519\n",
      "\n",
      "SVM\n",
      "              precision    recall  f1-score   support\n",
      "\n",
      "           1       0.28      0.26      0.27       135\n",
      "           2       0.14      0.14      0.14       124\n",
      "           3       0.23      0.16      0.19       133\n",
      "           4       0.25      0.37      0.30       127\n",
      "\n",
      "    accuracy                           0.23       519\n",
      "   macro avg       0.23      0.23      0.22       519\n",
      "weighted avg       0.23      0.23      0.23       519\n",
      "\n",
      "GNB\n",
      "              precision    recall  f1-score   support\n",
      "\n",
      "           1       0.42      0.25      0.31       135\n",
      "           2       0.28      0.18      0.22       124\n",
      "           3       0.20      0.02      0.03       133\n",
      "           4       0.29      0.80      0.43       127\n",
      "\n",
      "    accuracy                           0.31       519\n",
      "   macro avg       0.30      0.31      0.25       519\n",
      "weighted avg       0.30      0.31      0.24       519\n",
      "\n",
      "[22:50:19] WARNING: C:/Users/Administrator/workspace/xgboost-win64_release_1.4.0/src/learner.cc:1095: Starting in XGBoost 1.3.0, the default evaluation metric used with the objective 'multi:softprob' was changed from 'merror' to 'mlogloss'. Explicitly set eval_metric if you'd like to restore the old behavior.\n"
     ]
    },
    {
     "name": "stderr",
     "output_type": "stream",
     "text": [
      "C:\\Users\\wangting\\anaconda3\\lib\\site-packages\\xgboost\\sklearn.py:1146: UserWarning: The use of label encoder in XGBClassifier is deprecated and will be removed in a future release. To remove this warning, do the following: 1) Pass option use_label_encoder=False when constructing XGBClassifier object; and 2) Encode your labels (y) as integers starting with 0, i.e. 0, 1, 2, ..., [num_class - 1].\n",
      "  warnings.warn(label_encoder_deprecation_msg, UserWarning)\n"
     ]
    },
    {
     "name": "stdout",
     "output_type": "stream",
     "text": [
      "[22:50:20] WARNING: C:/Users/Administrator/workspace/xgboost-win64_release_1.4.0/src/learner.cc:1095: Starting in XGBoost 1.3.0, the default evaluation metric used with the objective 'multi:softprob' was changed from 'merror' to 'mlogloss'. Explicitly set eval_metric if you'd like to restore the old behavior.\n",
      "[22:50:20] WARNING: C:/Users/Administrator/workspace/xgboost-win64_release_1.4.0/src/learner.cc:1095: Starting in XGBoost 1.3.0, the default evaluation metric used with the objective 'multi:softprob' was changed from 'merror' to 'mlogloss'. Explicitly set eval_metric if you'd like to restore the old behavior.\n",
      "[22:50:20] WARNING: C:/Users/Administrator/workspace/xgboost-win64_release_1.4.0/src/learner.cc:1095: Starting in XGBoost 1.3.0, the default evaluation metric used with the objective 'multi:softprob' was changed from 'merror' to 'mlogloss'. Explicitly set eval_metric if you'd like to restore the old behavior.\n",
      "[22:50:21] WARNING: C:/Users/Administrator/workspace/xgboost-win64_release_1.4.0/src/learner.cc:1095: Starting in XGBoost 1.3.0, the default evaluation metric used with the objective 'multi:softprob' was changed from 'merror' to 'mlogloss'. Explicitly set eval_metric if you'd like to restore the old behavior.\n",
      "[22:50:21] WARNING: C:/Users/Administrator/workspace/xgboost-win64_release_1.4.0/src/learner.cc:1095: Starting in XGBoost 1.3.0, the default evaluation metric used with the objective 'multi:softprob' was changed from 'merror' to 'mlogloss'. Explicitly set eval_metric if you'd like to restore the old behavior.\n",
      "XGB\n",
      "              precision    recall  f1-score   support\n",
      "\n",
      "           1       0.15      0.14      0.15       135\n",
      "           2       0.06      0.07      0.07       124\n",
      "           3       0.02      0.02      0.02       133\n",
      "           4       0.09      0.08      0.08       127\n",
      "\n",
      "    accuracy                           0.08       519\n",
      "   macro avg       0.08      0.08      0.08       519\n",
      "weighted avg       0.08      0.08      0.08       519\n",
      "\n"
     ]
    },
    {
     "data": {
      "text/html": [
       "<div>\n",
       "<style scoped>\n",
       "    .dataframe tbody tr th:only-of-type {\n",
       "        vertical-align: middle;\n",
       "    }\n",
       "\n",
       "    .dataframe tbody tr th {\n",
       "        vertical-align: top;\n",
       "    }\n",
       "\n",
       "    .dataframe thead th {\n",
       "        text-align: right;\n",
       "    }\n",
       "</style>\n",
       "<table border=\"1\" class=\"dataframe\">\n",
       "  <thead>\n",
       "    <tr style=\"text-align: right;\">\n",
       "      <th></th>\n",
       "      <th>fit_time</th>\n",
       "      <th>score_time</th>\n",
       "      <th>test_accuracy</th>\n",
       "      <th>test_precision_weighted</th>\n",
       "      <th>test_recall_weighted</th>\n",
       "      <th>test_f1_weighted</th>\n",
       "      <th>model</th>\n",
       "    </tr>\n",
       "  </thead>\n",
       "  <tbody>\n",
       "    <tr>\n",
       "      <th>0</th>\n",
       "      <td>0.028019</td>\n",
       "      <td>0.003000</td>\n",
       "      <td>0.338843</td>\n",
       "      <td>0.322416</td>\n",
       "      <td>0.338843</td>\n",
       "      <td>0.322361</td>\n",
       "      <td>LogReg</td>\n",
       "    </tr>\n",
       "    <tr>\n",
       "      <th>1</th>\n",
       "      <td>0.025971</td>\n",
       "      <td>0.003001</td>\n",
       "      <td>0.355372</td>\n",
       "      <td>0.357061</td>\n",
       "      <td>0.355372</td>\n",
       "      <td>0.346118</td>\n",
       "      <td>LogReg</td>\n",
       "    </tr>\n",
       "    <tr>\n",
       "      <th>2</th>\n",
       "      <td>0.027027</td>\n",
       "      <td>0.002980</td>\n",
       "      <td>0.285124</td>\n",
       "      <td>0.279455</td>\n",
       "      <td>0.285124</td>\n",
       "      <td>0.271347</td>\n",
       "      <td>LogReg</td>\n",
       "    </tr>\n",
       "    <tr>\n",
       "      <th>3</th>\n",
       "      <td>0.029020</td>\n",
       "      <td>0.002990</td>\n",
       "      <td>0.280992</td>\n",
       "      <td>0.289127</td>\n",
       "      <td>0.280992</td>\n",
       "      <td>0.281026</td>\n",
       "      <td>LogReg</td>\n",
       "    </tr>\n",
       "    <tr>\n",
       "      <th>4</th>\n",
       "      <td>0.032010</td>\n",
       "      <td>0.002980</td>\n",
       "      <td>0.307054</td>\n",
       "      <td>0.302178</td>\n",
       "      <td>0.307054</td>\n",
       "      <td>0.297810</td>\n",
       "      <td>LogReg</td>\n",
       "    </tr>\n",
       "    <tr>\n",
       "      <th>5</th>\n",
       "      <td>0.165394</td>\n",
       "      <td>0.011997</td>\n",
       "      <td>0.107438</td>\n",
       "      <td>0.097436</td>\n",
       "      <td>0.107438</td>\n",
       "      <td>0.101028</td>\n",
       "      <td>RF</td>\n",
       "    </tr>\n",
       "    <tr>\n",
       "      <th>6</th>\n",
       "      <td>0.158022</td>\n",
       "      <td>0.012988</td>\n",
       "      <td>0.103306</td>\n",
       "      <td>0.111486</td>\n",
       "      <td>0.103306</td>\n",
       "      <td>0.106366</td>\n",
       "      <td>RF</td>\n",
       "    </tr>\n",
       "    <tr>\n",
       "      <th>7</th>\n",
       "      <td>0.146992</td>\n",
       "      <td>0.013989</td>\n",
       "      <td>0.099174</td>\n",
       "      <td>0.099646</td>\n",
       "      <td>0.099174</td>\n",
       "      <td>0.098564</td>\n",
       "      <td>RF</td>\n",
       "    </tr>\n",
       "    <tr>\n",
       "      <th>8</th>\n",
       "      <td>0.154020</td>\n",
       "      <td>0.012000</td>\n",
       "      <td>0.161157</td>\n",
       "      <td>0.163242</td>\n",
       "      <td>0.161157</td>\n",
       "      <td>0.161881</td>\n",
       "      <td>RF</td>\n",
       "    </tr>\n",
       "    <tr>\n",
       "      <th>9</th>\n",
       "      <td>0.143971</td>\n",
       "      <td>0.013003</td>\n",
       "      <td>0.170124</td>\n",
       "      <td>0.170476</td>\n",
       "      <td>0.170124</td>\n",
       "      <td>0.169668</td>\n",
       "      <td>RF</td>\n",
       "    </tr>\n",
       "    <tr>\n",
       "      <th>10</th>\n",
       "      <td>0.003996</td>\n",
       "      <td>0.009001</td>\n",
       "      <td>0.165289</td>\n",
       "      <td>0.179421</td>\n",
       "      <td>0.165289</td>\n",
       "      <td>0.165271</td>\n",
       "      <td>KNN</td>\n",
       "    </tr>\n",
       "    <tr>\n",
       "      <th>11</th>\n",
       "      <td>0.003001</td>\n",
       "      <td>0.008999</td>\n",
       "      <td>0.227273</td>\n",
       "      <td>0.226246</td>\n",
       "      <td>0.227273</td>\n",
       "      <td>0.225520</td>\n",
       "      <td>KNN</td>\n",
       "    </tr>\n",
       "    <tr>\n",
       "      <th>12</th>\n",
       "      <td>0.003002</td>\n",
       "      <td>0.010002</td>\n",
       "      <td>0.202479</td>\n",
       "      <td>0.209810</td>\n",
       "      <td>0.202479</td>\n",
       "      <td>0.203856</td>\n",
       "      <td>KNN</td>\n",
       "    </tr>\n",
       "    <tr>\n",
       "      <th>13</th>\n",
       "      <td>0.002001</td>\n",
       "      <td>0.010994</td>\n",
       "      <td>0.202479</td>\n",
       "      <td>0.200995</td>\n",
       "      <td>0.202479</td>\n",
       "      <td>0.200619</td>\n",
       "      <td>KNN</td>\n",
       "    </tr>\n",
       "    <tr>\n",
       "      <th>14</th>\n",
       "      <td>0.003003</td>\n",
       "      <td>0.009999</td>\n",
       "      <td>0.248963</td>\n",
       "      <td>0.254732</td>\n",
       "      <td>0.248963</td>\n",
       "      <td>0.247988</td>\n",
       "      <td>KNN</td>\n",
       "    </tr>\n",
       "    <tr>\n",
       "      <th>15</th>\n",
       "      <td>0.002997</td>\n",
       "      <td>0.002003</td>\n",
       "      <td>0.103306</td>\n",
       "      <td>0.106999</td>\n",
       "      <td>0.103306</td>\n",
       "      <td>0.098508</td>\n",
       "      <td>CLF</td>\n",
       "    </tr>\n",
       "    <tr>\n",
       "      <th>16</th>\n",
       "      <td>0.002004</td>\n",
       "      <td>0.002997</td>\n",
       "      <td>0.074380</td>\n",
       "      <td>0.082146</td>\n",
       "      <td>0.074380</td>\n",
       "      <td>0.074330</td>\n",
       "      <td>CLF</td>\n",
       "    </tr>\n",
       "    <tr>\n",
       "      <th>17</th>\n",
       "      <td>0.002002</td>\n",
       "      <td>0.003997</td>\n",
       "      <td>0.123967</td>\n",
       "      <td>0.124987</td>\n",
       "      <td>0.123967</td>\n",
       "      <td>0.120965</td>\n",
       "      <td>CLF</td>\n",
       "    </tr>\n",
       "    <tr>\n",
       "      <th>18</th>\n",
       "      <td>0.003000</td>\n",
       "      <td>0.002999</td>\n",
       "      <td>0.144628</td>\n",
       "      <td>0.150897</td>\n",
       "      <td>0.144628</td>\n",
       "      <td>0.141545</td>\n",
       "      <td>CLF</td>\n",
       "    </tr>\n",
       "    <tr>\n",
       "      <th>19</th>\n",
       "      <td>0.002999</td>\n",
       "      <td>0.003000</td>\n",
       "      <td>0.174274</td>\n",
       "      <td>0.200153</td>\n",
       "      <td>0.174274</td>\n",
       "      <td>0.179473</td>\n",
       "      <td>CLF</td>\n",
       "    </tr>\n",
       "    <tr>\n",
       "      <th>20</th>\n",
       "      <td>0.025997</td>\n",
       "      <td>0.007004</td>\n",
       "      <td>0.309917</td>\n",
       "      <td>0.296413</td>\n",
       "      <td>0.309917</td>\n",
       "      <td>0.296384</td>\n",
       "      <td>SVM</td>\n",
       "    </tr>\n",
       "    <tr>\n",
       "      <th>21</th>\n",
       "      <td>0.025999</td>\n",
       "      <td>0.005999</td>\n",
       "      <td>0.297521</td>\n",
       "      <td>0.320151</td>\n",
       "      <td>0.297521</td>\n",
       "      <td>0.297008</td>\n",
       "      <td>SVM</td>\n",
       "    </tr>\n",
       "    <tr>\n",
       "      <th>22</th>\n",
       "      <td>0.027000</td>\n",
       "      <td>0.006021</td>\n",
       "      <td>0.247934</td>\n",
       "      <td>0.256407</td>\n",
       "      <td>0.247934</td>\n",
       "      <td>0.239909</td>\n",
       "      <td>SVM</td>\n",
       "    </tr>\n",
       "    <tr>\n",
       "      <th>23</th>\n",
       "      <td>0.027009</td>\n",
       "      <td>0.006000</td>\n",
       "      <td>0.268595</td>\n",
       "      <td>0.264025</td>\n",
       "      <td>0.268595</td>\n",
       "      <td>0.261417</td>\n",
       "      <td>SVM</td>\n",
       "    </tr>\n",
       "    <tr>\n",
       "      <th>24</th>\n",
       "      <td>0.026970</td>\n",
       "      <td>0.006003</td>\n",
       "      <td>0.294606</td>\n",
       "      <td>0.308743</td>\n",
       "      <td>0.294606</td>\n",
       "      <td>0.292784</td>\n",
       "      <td>SVM</td>\n",
       "    </tr>\n",
       "    <tr>\n",
       "      <th>25</th>\n",
       "      <td>0.002009</td>\n",
       "      <td>0.003993</td>\n",
       "      <td>0.314050</td>\n",
       "      <td>0.360043</td>\n",
       "      <td>0.314050</td>\n",
       "      <td>0.239387</td>\n",
       "      <td>GNB</td>\n",
       "    </tr>\n",
       "    <tr>\n",
       "      <th>26</th>\n",
       "      <td>0.002853</td>\n",
       "      <td>0.001997</td>\n",
       "      <td>0.330579</td>\n",
       "      <td>0.339921</td>\n",
       "      <td>0.330579</td>\n",
       "      <td>0.279903</td>\n",
       "      <td>GNB</td>\n",
       "    </tr>\n",
       "    <tr>\n",
       "      <th>27</th>\n",
       "      <td>0.002003</td>\n",
       "      <td>0.002996</td>\n",
       "      <td>0.280992</td>\n",
       "      <td>0.326456</td>\n",
       "      <td>0.280992</td>\n",
       "      <td>0.245823</td>\n",
       "      <td>GNB</td>\n",
       "    </tr>\n",
       "    <tr>\n",
       "      <th>28</th>\n",
       "      <td>0.001997</td>\n",
       "      <td>0.002999</td>\n",
       "      <td>0.297521</td>\n",
       "      <td>0.324834</td>\n",
       "      <td>0.297521</td>\n",
       "      <td>0.256243</td>\n",
       "      <td>GNB</td>\n",
       "    </tr>\n",
       "    <tr>\n",
       "      <th>29</th>\n",
       "      <td>0.002000</td>\n",
       "      <td>0.002999</td>\n",
       "      <td>0.331950</td>\n",
       "      <td>0.307680</td>\n",
       "      <td>0.331950</td>\n",
       "      <td>0.269710</td>\n",
       "      <td>GNB</td>\n",
       "    </tr>\n",
       "    <tr>\n",
       "      <th>30</th>\n",
       "      <td>0.318000</td>\n",
       "      <td>0.005001</td>\n",
       "      <td>0.107438</td>\n",
       "      <td>0.100130</td>\n",
       "      <td>0.107438</td>\n",
       "      <td>0.101953</td>\n",
       "      <td>XGB</td>\n",
       "    </tr>\n",
       "    <tr>\n",
       "      <th>31</th>\n",
       "      <td>0.331167</td>\n",
       "      <td>0.005004</td>\n",
       "      <td>0.099174</td>\n",
       "      <td>0.113695</td>\n",
       "      <td>0.099174</td>\n",
       "      <td>0.104019</td>\n",
       "      <td>XGB</td>\n",
       "    </tr>\n",
       "    <tr>\n",
       "      <th>32</th>\n",
       "      <td>0.277016</td>\n",
       "      <td>0.005979</td>\n",
       "      <td>0.090909</td>\n",
       "      <td>0.095592</td>\n",
       "      <td>0.090909</td>\n",
       "      <td>0.091340</td>\n",
       "      <td>XGB</td>\n",
       "    </tr>\n",
       "    <tr>\n",
       "      <th>33</th>\n",
       "      <td>0.278002</td>\n",
       "      <td>0.007002</td>\n",
       "      <td>0.165289</td>\n",
       "      <td>0.166071</td>\n",
       "      <td>0.165289</td>\n",
       "      <td>0.165579</td>\n",
       "      <td>XGB</td>\n",
       "    </tr>\n",
       "    <tr>\n",
       "      <th>34</th>\n",
       "      <td>0.278026</td>\n",
       "      <td>0.005969</td>\n",
       "      <td>0.178423</td>\n",
       "      <td>0.179870</td>\n",
       "      <td>0.178423</td>\n",
       "      <td>0.178037</td>\n",
       "      <td>XGB</td>\n",
       "    </tr>\n",
       "  </tbody>\n",
       "</table>\n",
       "</div>"
      ],
      "text/plain": [
       "    fit_time  score_time  test_accuracy  test_precision_weighted  \\\n",
       "0   0.028019    0.003000       0.338843                 0.322416   \n",
       "1   0.025971    0.003001       0.355372                 0.357061   \n",
       "2   0.027027    0.002980       0.285124                 0.279455   \n",
       "3   0.029020    0.002990       0.280992                 0.289127   \n",
       "4   0.032010    0.002980       0.307054                 0.302178   \n",
       "5   0.165394    0.011997       0.107438                 0.097436   \n",
       "6   0.158022    0.012988       0.103306                 0.111486   \n",
       "7   0.146992    0.013989       0.099174                 0.099646   \n",
       "8   0.154020    0.012000       0.161157                 0.163242   \n",
       "9   0.143971    0.013003       0.170124                 0.170476   \n",
       "10  0.003996    0.009001       0.165289                 0.179421   \n",
       "11  0.003001    0.008999       0.227273                 0.226246   \n",
       "12  0.003002    0.010002       0.202479                 0.209810   \n",
       "13  0.002001    0.010994       0.202479                 0.200995   \n",
       "14  0.003003    0.009999       0.248963                 0.254732   \n",
       "15  0.002997    0.002003       0.103306                 0.106999   \n",
       "16  0.002004    0.002997       0.074380                 0.082146   \n",
       "17  0.002002    0.003997       0.123967                 0.124987   \n",
       "18  0.003000    0.002999       0.144628                 0.150897   \n",
       "19  0.002999    0.003000       0.174274                 0.200153   \n",
       "20  0.025997    0.007004       0.309917                 0.296413   \n",
       "21  0.025999    0.005999       0.297521                 0.320151   \n",
       "22  0.027000    0.006021       0.247934                 0.256407   \n",
       "23  0.027009    0.006000       0.268595                 0.264025   \n",
       "24  0.026970    0.006003       0.294606                 0.308743   \n",
       "25  0.002009    0.003993       0.314050                 0.360043   \n",
       "26  0.002853    0.001997       0.330579                 0.339921   \n",
       "27  0.002003    0.002996       0.280992                 0.326456   \n",
       "28  0.001997    0.002999       0.297521                 0.324834   \n",
       "29  0.002000    0.002999       0.331950                 0.307680   \n",
       "30  0.318000    0.005001       0.107438                 0.100130   \n",
       "31  0.331167    0.005004       0.099174                 0.113695   \n",
       "32  0.277016    0.005979       0.090909                 0.095592   \n",
       "33  0.278002    0.007002       0.165289                 0.166071   \n",
       "34  0.278026    0.005969       0.178423                 0.179870   \n",
       "\n",
       "    test_recall_weighted  test_f1_weighted   model  \n",
       "0               0.338843          0.322361  LogReg  \n",
       "1               0.355372          0.346118  LogReg  \n",
       "2               0.285124          0.271347  LogReg  \n",
       "3               0.280992          0.281026  LogReg  \n",
       "4               0.307054          0.297810  LogReg  \n",
       "5               0.107438          0.101028      RF  \n",
       "6               0.103306          0.106366      RF  \n",
       "7               0.099174          0.098564      RF  \n",
       "8               0.161157          0.161881      RF  \n",
       "9               0.170124          0.169668      RF  \n",
       "10              0.165289          0.165271     KNN  \n",
       "11              0.227273          0.225520     KNN  \n",
       "12              0.202479          0.203856     KNN  \n",
       "13              0.202479          0.200619     KNN  \n",
       "14              0.248963          0.247988     KNN  \n",
       "15              0.103306          0.098508     CLF  \n",
       "16              0.074380          0.074330     CLF  \n",
       "17              0.123967          0.120965     CLF  \n",
       "18              0.144628          0.141545     CLF  \n",
       "19              0.174274          0.179473     CLF  \n",
       "20              0.309917          0.296384     SVM  \n",
       "21              0.297521          0.297008     SVM  \n",
       "22              0.247934          0.239909     SVM  \n",
       "23              0.268595          0.261417     SVM  \n",
       "24              0.294606          0.292784     SVM  \n",
       "25              0.314050          0.239387     GNB  \n",
       "26              0.330579          0.279903     GNB  \n",
       "27              0.280992          0.245823     GNB  \n",
       "28              0.297521          0.256243     GNB  \n",
       "29              0.331950          0.269710     GNB  \n",
       "30              0.107438          0.101953     XGB  \n",
       "31              0.099174          0.104019     XGB  \n",
       "32              0.090909          0.091340     XGB  \n",
       "33              0.165289          0.165579     XGB  \n",
       "34              0.178423          0.178037     XGB  "
      ]
     },
     "metadata": {},
     "output_type": "display_data"
    }
   ],
   "source": [
    "final = run_exps(X_train, y_train, X_test, y_test)\n",
    "display(final)"
   ]
  },
  {
   "cell_type": "markdown",
   "metadata": {},
   "source": [
    "## Evaluate Results on 50 Samples"
   ]
  },
  {
   "cell_type": "code",
   "execution_count": 324,
   "metadata": {},
   "outputs": [],
   "source": [
    "bootstraps = []\n",
    "for model in list(set(final.model.values)):\n",
    "    model_df = final.loc[final.model == model]\n",
    "    bootstrap = model_df.sample(n=50, replace=True)\n",
    "    bootstraps.append(bootstrap)\n",
    "        \n",
    "bootstrap_df = pd.concat(bootstraps, ignore_index=True)\n",
    "results_long = pd.melt(bootstrap_df,id_vars=['model'],var_name='metrics', value_name='values')\n",
    "time_metrics = ['fit_time','score_time'] # fit time metrics\n",
    "\n",
    "## PERFORMANCE METRICS\n",
    "results_long_nofit = results_long.loc[~results_long['metrics'].isin(time_metrics)] # get df without fit data\n",
    "results_long_nofit = results_long_nofit.sort_values(by='values')"
   ]
  },
  {
   "cell_type": "code",
   "execution_count": 325,
   "metadata": {},
   "outputs": [
    {
     "data": {
      "image/png": "[encoded data removed]",
      "text/plain": [
       "<Figure size 1440x864 with 1 Axes>"
      ]
     },
     "metadata": {},
     "output_type": "display_data"
    }
   ],
   "source": [
    "import matplotlib.pyplot as plt\n",
    "import seaborn as sns\n",
    "\n",
    "plt.figure(figsize=(20, 12))\n",
    "sns.set(font_scale=2.5)\n",
    "g = sns.boxplot(x=\"model\", y=\"values\", hue=\"metrics\", data=results_long_nofit, palette=\"Set3\")\n",
    "plt.legend(bbox_to_anchor=(1.05, 1), loc=2, borderaxespad=0.)\n",
    "plt.title('Comparison of Model by Classification Metric')\n",
    "plt.savefig('./benchmark_models_performance.png',dpi=300)"
   ]
  },
  {
   "cell_type": "markdown",
   "metadata": {},
   "source": [
    "## Perform Gridsearch on Logistic Regression\n",
    "\n",
    "*As Logistic Regression seemed to perform the best, I will tune the hyperparameters of Logistic Regression using GridSearchCV to identify if the model performance improves.*"
   ]
  },
  {
   "cell_type": "code",
   "execution_count": 332,
   "metadata": {},
   "outputs": [],
   "source": [
    "lgr = LogisticRegression()"
   ]
  },
  {
   "cell_type": "code",
   "execution_count": 333,
   "metadata": {},
   "outputs": [],
   "source": [
    "param_grid = ({\n",
    "    \"penalty\": ['l1','l2','elasticnet','none'],\n",
    "    \"C\": [0.01, 0.1, 1],\n",
    "    \"solver\": ['newton-cg','lbfgs','liblinear','sag','saga']\n",
    "})"
   ]
  },
  {
   "cell_type": "code",
   "execution_count": 334,
   "metadata": {},
   "outputs": [],
   "source": [
    "grid = GridSearchCV(lgr, param_grid, refit = True, verbose = 3, n_jobs=-1, cv=10) "
   ]
  },
  {
   "cell_type": "code",
   "execution_count": 335,
   "metadata": {},
   "outputs": [
    {
     "name": "stdout",
     "output_type": "stream",
     "text": [
      "Fitting 10 folds for each of 60 candidates, totalling 600 fits\n"
     ]
    },
    {
     "name": "stderr",
     "output_type": "stream",
     "text": [
      "[Parallel(n_jobs=-1)]: Using backend LokyBackend with 8 concurrent workers.\n",
      "[Parallel(n_jobs=-1)]: Done  16 tasks      | elapsed:    5.4s\n",
      "[Parallel(n_jobs=-1)]: Done 438 tasks      | elapsed:    6.6s\n",
      "[Parallel(n_jobs=-1)]: Done 600 out of 600 | elapsed:    7.1s finished\n",
      "C:\\Users\\wangting\\anaconda3\\lib\\site-packages\\sklearn\\linear_model\\_logistic.py:1320: UserWarning: Setting penalty='none' will ignore the C and l1_ratio parameters\n",
      "  warnings.warn(\n"
     ]
    },
    {
     "data": {
      "text/plain": [
       "GridSearchCV(cv=10, estimator=LogisticRegression(), n_jobs=-1,\n",
       "             param_grid={'C': [0.01, 0.1, 1],\n",
       "                         'penalty': ['l1', 'l2', 'elasticnet', 'none'],\n",
       "                         'solver': ['newton-cg', 'lbfgs', 'liblinear', 'sag',\n",
       "                                    'saga']},\n",
       "             verbose=3)"
      ]
     },
     "execution_count": 335,
     "metadata": {},
     "output_type": "execute_result"
    }
   ],
   "source": [
    "grid.fit(X_train, y_train) "
   ]
  },
  {
   "cell_type": "code",
   "execution_count": 336,
   "metadata": {},
   "outputs": [
    {
     "name": "stdout",
     "output_type": "stream",
     "text": [
      "{'C': 0.01, 'penalty': 'none', 'solver': 'newton-cg'}\n"
     ]
    }
   ],
   "source": [
    "print(grid.best_params_)"
   ]
  },
  {
   "cell_type": "code",
   "execution_count": 338,
   "metadata": {},
   "outputs": [
    {
     "name": "stdout",
     "output_type": "stream",
     "text": [
      "Accuracy: 0.3159922928709056\n",
      "              precision    recall  f1-score   support\n",
      "\n",
      "           1       0.37      0.36      0.37       135\n",
      "           2       0.25      0.25      0.25       124\n",
      "           3       0.35      0.18      0.24       133\n",
      "           4       0.31      0.47      0.37       127\n",
      "\n",
      "    accuracy                           0.32       519\n",
      "   macro avg       0.32      0.32      0.31       519\n",
      "weighted avg       0.32      0.32      0.31       519\n",
      "\n"
     ]
    }
   ],
   "source": [
    "grid_predictions = grid.predict(X_test)\n",
    "print(\"Accuracy:\", accuracy_score(y_test, grid_predictions))\n",
    "print(classification_report(y_test, grid_predictions))"
   ]
  },
  {
   "cell_type": "markdown",
   "metadata": {},
   "source": [
    "*The results are somewhat similar (there may be some discrepancies in the decimals when the metrics values are rounded up, but essentially, Logistic Regression performs better than the other models and is the chosen model.* "
   ]
  },
  {
   "cell_type": "code",
   "execution_count": null,
   "metadata": {},
   "outputs": [],
   "source": []
  },
  {
   "cell_type": "code",
   "execution_count": null,
   "metadata": {},
   "outputs": [],
   "source": []
  },
  {
   "cell_type": "code",
   "execution_count": null,
   "metadata": {},
   "outputs": [],
   "source": []
  }
 ],
 "metadata": {
  "kernelspec": {
   "display_name": "Python 3",
   "language": "python",
   "name": "python3"
  },
  "language_info": {
   "codemirror_mode": {
    "name": "ipython",
    "version": 3
   },
   "file_extension": ".py",
   "mimetype": "text/x-python",
   "name": "python",
   "nbconvert_exporter": "python",
   "pygments_lexer": "ipython3",
   "version": "3.8.3"
  }
 },
 "nbformat": 4,
 "nbformat_minor": 4
}
